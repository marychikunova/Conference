{
 "cells": [
  {
   "cell_type": "markdown",
   "metadata": {},
   "source": [
    "# Алгоритм классификации требований текстов нормативных документов"
   ]
  },
  {
   "cell_type": "code",
   "execution_count": 1,
   "metadata": {},
   "outputs": [],
   "source": [
    "import pandas as pd\n",
    "import numpy as np\n",
    "\n",
    "import re\n",
    "import string\n",
    "import nltk\n",
    "from nltk.stem import WordNetLemmatizer\n",
    "from sklearn import metrics\n",
    "from sklearn.feature_extraction.text import CountVectorizer\n",
    "from sklearn.feature_extraction.text import TfidfTransformer\n",
    "\n",
    "from sklearn.model_selection import train_test_split\n",
    "from sklearn import preprocessing\n",
    "\n",
    "import matplotlib.pyplot as plt\n",
    "from sklearn.model_selection import RandomizedSearchCV\n",
    "from sklearn.model_selection import cross_val_score\n",
    "from sklearn.naive_bayes import ComplementNB\n",
    "from sklearn.naive_bayes import BernoulliNB\n",
    "from xgboost import XGBClassifier"
   ]
  },
  {
   "cell_type": "code",
   "execution_count": 2,
   "metadata": {},
   "outputs": [],
   "source": [
    "def normalization_v2(text):\n",
    "    text = text.lower()\n",
    "    text = text.translate(str.maketrans('', '', string.punctuation))\n",
    "    text = text.replace(\"‘\", '‘').replace(\"’\", '’').replace(\"'\", \" '\")\n",
    "    text = re.sub(r\"['‘’]\\w+\\b\", '', text)\n",
    "    text = re.sub(r\"['‘’]\", '', text)\n",
    "    text = re.sub(r'[“”\"•]', '', text)\n",
    "    \n",
    "    x = re.findall(r\"\\d\", \"ldcnk skjnk njdjm\")    #numbers in text\n",
    "    \n",
    "    text = re.sub(r'(\\d\\.\\s)+', '', text)\n",
    "    text = re.sub(r'(\\d\\.)+', '', text)\n",
    "    text = re.sub(r'\\d+', '', text)\n",
    "    text = re.sub(r\"–\", '', text)\n",
    "#    text = re.sub(r\"\\s\\w\\s\", '', text)\n",
    "    if len(x) > 0:                              #marker that there were numbers in text\n",
    "        text += '11111'\n",
    "    text = text.strip()\n",
    "    lemma = WordNetLemmatizer()\n",
    "    tokens = nltk.word_tokenize(text)\n",
    "    tokens = [lemma.lemmatize(word, pos = \"v\") for word in tokens]\n",
    "    tokens = [lemma.lemmatize(word, pos = \"n\") for word in tokens]\n",
    "    text = \"\"\n",
    "    for tok in tokens:\n",
    "        text += tok\n",
    "        text += \" \"\n",
    "    return text"
   ]
  },
  {
   "cell_type": "code",
   "execution_count": 3,
   "metadata": {},
   "outputs": [
    {
     "data": {
      "text/html": [
       "<div>\n",
       "<style scoped>\n",
       "    .dataframe tbody tr th:only-of-type {\n",
       "        vertical-align: middle;\n",
       "    }\n",
       "\n",
       "    .dataframe tbody tr th {\n",
       "        vertical-align: top;\n",
       "    }\n",
       "\n",
       "    .dataframe thead th {\n",
       "        text-align: right;\n",
       "    }\n",
       "</style>\n",
       "<table border=\"1\" class=\"dataframe\">\n",
       "  <thead>\n",
       "    <tr style=\"text-align: right;\">\n",
       "      <th></th>\n",
       "      <th>Source document ID</th>\n",
       "      <th>CI_ID</th>\n",
       "      <th>CI_Version</th>\n",
       "      <th>CI_Description EN</th>\n",
       "      <th>CI_Description RU</th>\n",
       "      <th>DocumentObjectClass</th>\n",
       "      <th>I&amp;C scope</th>\n",
       "      <th>Technical/Process</th>\n",
       "    </tr>\n",
       "  </thead>\n",
       "  <tbody>\n",
       "    <tr>\n",
       "      <th>0</th>\n",
       "      <td>IAEA-GSR2</td>\n",
       "      <td>IAEA-GSR2-1</td>\n",
       "      <td>6-2016</td>\n",
       "      <td>Requirement 1: Achieving the fundamental safet...</td>\n",
       "      <td>NaN</td>\n",
       "      <td>Requirement</td>\n",
       "      <td>Yes</td>\n",
       "      <td>Process</td>\n",
       "    </tr>\n",
       "    <tr>\n",
       "      <th>1</th>\n",
       "      <td>IAEA-GSR2</td>\n",
       "      <td>IAEA-GSR2-1-2.2</td>\n",
       "      <td>6-2016</td>\n",
       "      <td>2.2. The senior management of organizations, i...</td>\n",
       "      <td>NaN</td>\n",
       "      <td>Requirement</td>\n",
       "      <td>Yes</td>\n",
       "      <td>Process</td>\n",
       "    </tr>\n",
       "    <tr>\n",
       "      <th>2</th>\n",
       "      <td>IAEA-GSR2</td>\n",
       "      <td>IAEA-GSR2-2-3.1</td>\n",
       "      <td>6-2016</td>\n",
       "      <td>3.1. The senior management of the organization...</td>\n",
       "      <td>NaN</td>\n",
       "      <td>Requirement</td>\n",
       "      <td>Yes</td>\n",
       "      <td>Process</td>\n",
       "    </tr>\n",
       "    <tr>\n",
       "      <th>3</th>\n",
       "      <td>IAEA-GSR2</td>\n",
       "      <td>IAEA-GSR2-2-3.3</td>\n",
       "      <td>6-2016</td>\n",
       "      <td>3.3. Managers at all levels in the organizatio...</td>\n",
       "      <td>NaN</td>\n",
       "      <td>Requirement</td>\n",
       "      <td>Yes</td>\n",
       "      <td>Process</td>\n",
       "    </tr>\n",
       "    <tr>\n",
       "      <th>4</th>\n",
       "      <td>IAEA-GSR2</td>\n",
       "      <td>IAEA-GSR2-3-4.1</td>\n",
       "      <td>6-2016</td>\n",
       "      <td>4.1. Senior management shall retain accountabi...</td>\n",
       "      <td>NaN</td>\n",
       "      <td>Requirement</td>\n",
       "      <td>Yes</td>\n",
       "      <td>Process</td>\n",
       "    </tr>\n",
       "  </tbody>\n",
       "</table>\n",
       "</div>"
      ],
      "text/plain": [
       "  Source document ID            CI_ID CI_Version  \\\n",
       "0          IAEA-GSR2      IAEA-GSR2-1     6-2016   \n",
       "1          IAEA-GSR2  IAEA-GSR2-1-2.2     6-2016   \n",
       "2          IAEA-GSR2  IAEA-GSR2-2-3.1     6-2016   \n",
       "3          IAEA-GSR2  IAEA-GSR2-2-3.3     6-2016   \n",
       "4          IAEA-GSR2  IAEA-GSR2-3-4.1     6-2016   \n",
       "\n",
       "                                   CI_Description EN  CI_Description RU  \\\n",
       "0  Requirement 1: Achieving the fundamental safet...                NaN   \n",
       "1  2.2. The senior management of organizations, i...                NaN   \n",
       "2  3.1. The senior management of the organization...                NaN   \n",
       "3  3.3. Managers at all levels in the organizatio...                NaN   \n",
       "4  4.1. Senior management shall retain accountabi...                NaN   \n",
       "\n",
       "  DocumentObjectClass I&C scope Technical/Process  \n",
       "0         Requirement       Yes           Process  \n",
       "1         Requirement       Yes           Process  \n",
       "2         Requirement       Yes           Process  \n",
       "3         Requirement       Yes           Process  \n",
       "4         Requirement       Yes           Process  "
      ]
     },
     "execution_count": 3,
     "metadata": {},
     "output_type": "execute_result"
    }
   ],
   "source": [
    "df_1 = pd.read_csv('Train_Standards-Table.csv', sep=';', header = None)\n",
    "df_1.columns=['Source document ID', 'CI_ID', 'CI_Version', 'CI_Description EN', 'CI_Description RU', 'DocumentObjectClass', 'I&C scope', 'Technical/Process']\n",
    "df_1.head()"
   ]
  },
  {
   "cell_type": "code",
   "execution_count": 4,
   "metadata": {},
   "outputs": [
    {
     "data": {
      "text/html": [
       "<div>\n",
       "<style scoped>\n",
       "    .dataframe tbody tr th:only-of-type {\n",
       "        vertical-align: middle;\n",
       "    }\n",
       "\n",
       "    .dataframe tbody tr th {\n",
       "        vertical-align: top;\n",
       "    }\n",
       "\n",
       "    .dataframe thead th {\n",
       "        text-align: right;\n",
       "    }\n",
       "</style>\n",
       "<table border=\"1\" class=\"dataframe\">\n",
       "  <thead>\n",
       "    <tr style=\"text-align: right;\">\n",
       "      <th></th>\n",
       "      <th>Source document ID</th>\n",
       "      <th>CI_ID</th>\n",
       "      <th>CI_Version</th>\n",
       "      <th>CI_Description EN</th>\n",
       "      <th>CI_Description RU</th>\n",
       "      <th>DocumentObjectClass</th>\n",
       "      <th>I&amp;C scope</th>\n",
       "      <th>Technical/Process</th>\n",
       "    </tr>\n",
       "  </thead>\n",
       "  <tbody>\n",
       "    <tr>\n",
       "      <th>0</th>\n",
       "      <td>IAEA-GSR2</td>\n",
       "      <td>IAEA-GSR2-1-2.1</td>\n",
       "      <td>6-2016</td>\n",
       "      <td>2.1. The registrant or licensee shall ensure t...</td>\n",
       "      <td>NaN</td>\n",
       "      <td>Requirement</td>\n",
       "      <td>Yes</td>\n",
       "      <td>Process</td>\n",
       "    </tr>\n",
       "    <tr>\n",
       "      <th>1</th>\n",
       "      <td>IAEA-GSR2</td>\n",
       "      <td>IAEA-GSR2-2</td>\n",
       "      <td>6-2016</td>\n",
       "      <td>Requirement 2: Demonstration of leadership for...</td>\n",
       "      <td>NaN</td>\n",
       "      <td>Requirement</td>\n",
       "      <td>Yes</td>\n",
       "      <td>Process</td>\n",
       "    </tr>\n",
       "    <tr>\n",
       "      <th>2</th>\n",
       "      <td>IAEA-GSR2</td>\n",
       "      <td>IAEA-GSR2-2-3.2</td>\n",
       "      <td>6-2016</td>\n",
       "      <td>3.2. Managers at all levels in the organizatio...</td>\n",
       "      <td>NaN</td>\n",
       "      <td>Requirement</td>\n",
       "      <td>Yes</td>\n",
       "      <td>Process</td>\n",
       "    </tr>\n",
       "    <tr>\n",
       "      <th>3</th>\n",
       "      <td>IAEA-GSR2</td>\n",
       "      <td>IAEA-GSR2-3</td>\n",
       "      <td>6-2016</td>\n",
       "      <td>Requirement 3: Responsibility of senior manage...</td>\n",
       "      <td>NaN</td>\n",
       "      <td>Requirement</td>\n",
       "      <td>Yes</td>\n",
       "      <td>Process</td>\n",
       "    </tr>\n",
       "    <tr>\n",
       "      <th>4</th>\n",
       "      <td>IAEA-GSR2</td>\n",
       "      <td>IAEA-GSR2-3-4.2</td>\n",
       "      <td>6-2016</td>\n",
       "      <td>4.2. Senior management shall be responsible fo...</td>\n",
       "      <td>NaN</td>\n",
       "      <td>Requirement</td>\n",
       "      <td>Yes</td>\n",
       "      <td>Process</td>\n",
       "    </tr>\n",
       "  </tbody>\n",
       "</table>\n",
       "</div>"
      ],
      "text/plain": [
       "  Source document ID            CI_ID CI_Version  \\\n",
       "0          IAEA-GSR2  IAEA-GSR2-1-2.1     6-2016   \n",
       "1          IAEA-GSR2      IAEA-GSR2-2     6-2016   \n",
       "2          IAEA-GSR2  IAEA-GSR2-2-3.2     6-2016   \n",
       "3          IAEA-GSR2      IAEA-GSR2-3     6-2016   \n",
       "4          IAEA-GSR2  IAEA-GSR2-3-4.2     6-2016   \n",
       "\n",
       "                                   CI_Description EN  CI_Description RU  \\\n",
       "0  2.1. The registrant or licensee shall ensure t...                NaN   \n",
       "1  Requirement 2: Demonstration of leadership for...                NaN   \n",
       "2  3.2. Managers at all levels in the organizatio...                NaN   \n",
       "3  Requirement 3: Responsibility of senior manage...                NaN   \n",
       "4  4.2. Senior management shall be responsible fo...                NaN   \n",
       "\n",
       "  DocumentObjectClass I&C scope Technical/Process  \n",
       "0         Requirement       Yes           Process  \n",
       "1         Requirement       Yes           Process  \n",
       "2         Requirement       Yes           Process  \n",
       "3         Requirement       Yes           Process  \n",
       "4         Requirement       Yes           Process  "
      ]
     },
     "execution_count": 4,
     "metadata": {},
     "output_type": "execute_result"
    }
   ],
   "source": [
    "df_2 = pd.read_csv('Test_Standards-Table.csv', sep=';', header = None)\n",
    "df_2.columns=['Source document ID', 'CI_ID', 'CI_Version', 'CI_Description EN', 'CI_Description RU', 'DocumentObjectClass', 'I&C scope', 'Technical/Process']\n",
    "df_2.head()"
   ]
  },
  {
   "cell_type": "code",
   "execution_count": 5,
   "metadata": {},
   "outputs": [],
   "source": [
    "df1 = pd.DataFrame(columns=['text', 'class'])\n",
    "df2 = pd.DataFrame(columns=['text', 'class'])\n",
    "df1['text'] = df_1['CI_Description EN']\n",
    "df1['class'] = df_1['DocumentObjectClass']\n",
    "df2['text'] = df_2['CI_Description EN']\n",
    "df2['class'] = df_2['DocumentObjectClass']\n",
    "df1['data'] = df1['text'].str.lower()\n",
    "df2['data'] = df2['text'].str.lower()\n",
    "df1['data'] = df1['data'].apply(lambda x: normalization_v2(x))\n",
    "df2['data'] = df2['data'].apply(lambda x: normalization_v2(x))"
   ]
  },
  {
   "cell_type": "code",
   "execution_count": 6,
   "metadata": {},
   "outputs": [],
   "source": [
    "count_vect = CountVectorizer()\n",
    "X_counts = count_vect.fit_transform(df1['data'])\n",
    "\n",
    "tfidf_transformer = TfidfTransformer()\n",
    "train_tfidf_transformer = tfidf_transformer.fit(X_counts)\n"
   ]
  },
  {
   "cell_type": "code",
   "execution_count": 7,
   "metadata": {},
   "outputs": [],
   "source": [
    "X_train = train_tfidf_transformer.transform(X_counts)\n",
    "\n",
    "le = preprocessing.LabelEncoder()\n",
    "le.fit(df1['class'])\n",
    "y_train = le.transform(df1['class'])\n",
    "\n",
    "#X_train, X_test, y_train, y_test = train_test_split(X_tfidf, y, train_size=0.6)"
   ]
  },
  {
   "cell_type": "code",
   "execution_count": 8,
   "metadata": {},
   "outputs": [],
   "source": [
    "X_test = train_tfidf_transformer.transform(count_vect.transform(df2['data']))\n",
    "le = preprocessing.LabelEncoder()\n",
    "le.fit(df2['class'])\n",
    "y_test = le.transform(df2['class'])"
   ]
  },
  {
   "cell_type": "code",
   "execution_count": 9,
   "metadata": {},
   "outputs": [
    {
     "name": "stdout",
     "output_type": "stream",
     "text": [
      "(1880, 2580)\n",
      "(1880, 2580)\n"
     ]
    }
   ],
   "source": [
    "print (X_train.shape)\n",
    "print (X_test.shape)"
   ]
  },
  {
   "cell_type": "code",
   "execution_count": 10,
   "metadata": {},
   "outputs": [
    {
     "name": "stdout",
     "output_type": "stream",
     "text": [
      "1880\n",
      "1880\n"
     ]
    }
   ],
   "source": [
    "print (len(y_train))\n",
    "print (len(y_test))"
   ]
  },
  {
   "cell_type": "markdown",
   "metadata": {},
   "source": [
    "## Modal verbs: may, might, can, could, must, shall, should"
   ]
  },
  {
   "cell_type": "code",
   "execution_count": 11,
   "metadata": {},
   "outputs": [
    {
     "name": "stdout",
     "output_type": "stream",
     "text": [
      "precision = 0.9308790383170549\n",
      "recall = 0.8568464730290456\n",
      "f1 = 0.8923298523586605\n"
     ]
    }
   ],
   "source": [
    "TP = 0\n",
    "FP = 0\n",
    "TN = 0\n",
    "FN = 0\n",
    "\n",
    "for i in range(0, len(df2)):\n",
    "    may = df2['data'][i].find('may')\n",
    "    might = df2['data'][i].find('might')\n",
    "    can = df2['data'][i].find('can')\n",
    "    could = df2['data'][i].find('could')\n",
    "    must = df2['data'][i].find('must')\n",
    "    shall = df2['data'][i].find('shall')\n",
    "    should = df2['data'][i].find('should')\n",
    "    \n",
    "    if ((may != -1 or might != -1 or can != -1 or could != -1 or must != -1 or shall != -1 or should != -1)\n",
    "        and df2['class'][i] == 'Requirement'): TP += 1\n",
    "    elif ((may != -1 or might != -1 or can != -1 or could != -1 or must != -1 or shall != -1 or should != -1)\n",
    "        and df2['class'][i] != 'Requirement'): FP += 1\n",
    "    elif ((may == -1 and might == -1 and can == -1 and could == -1 and must == -1 and shall == -1 and should == -1)\n",
    "        and df2['class'][i] == 'Requirement'): FN += 1\n",
    "    elif ((may == -1 and might == -1 and can == -1 and could == -1 and must == -1 and shall == -1 and should == -1)\n",
    "        and df2['class'][i] != 'Requirement'): TN += 1\n",
    "        \n",
    "precision = TP / (TP + FP)\n",
    "recall = TP / (TP + FN)\n",
    "f1 = 2 * TP / (2 * TP + FP + FN)\n",
    "\n",
    "print ('precision =', precision)\n",
    "print ('recall =', recall)\n",
    "print ('f1 =', f1)"
   ]
  },
  {
   "cell_type": "code",
   "execution_count": 12,
   "metadata": {},
   "outputs": [],
   "source": [
    "# Compute ROC curve and ROC area for each class\n",
    "fpr = dict()\n",
    "tpr = dict()\n",
    "roc_auc = dict()\n",
    "\n",
    "length = len(df2)\n",
    "\n",
    "y_test_roc = np.zeros(length)\n",
    "y_pred_roc = np.zeros(length)\n",
    "\n",
    "for i in range (length):\n",
    "     if (df2['class'][i] == 'Requirement'): y_test_roc[i] = 1\n",
    "        \n",
    "for i in range (length):\n",
    "    may = df2['data'][i].find('may')\n",
    "    might = df2['data'][i].find('might')\n",
    "    can = df2['data'][i].find('can')\n",
    "    could = df2['data'][i].find('could')\n",
    "    must = df2['data'][i].find('must')\n",
    "    shall = df2['data'][i].find('shall')\n",
    "    should = df2['data'][i].find('should')\n",
    "    if (may != -1 or might != -1 or can != -1 or could != -1 or must != -1 or shall != -1 or should != -1):\n",
    "        y_pred_roc[i] = 1\n",
    "        \n",
    "fpr, tpr, thresholds = metrics.roc_curve(y_test_roc, y_pred_roc)"
   ]
  },
  {
   "cell_type": "code",
   "execution_count": 13,
   "metadata": {},
   "outputs": [
    {
     "data": {
      "image/png": "[encoded data removed]",
      "text/plain": [
       "<Figure size 432x288 with 1 Axes>"
      ]
     },
     "metadata": {
      "needs_background": "light"
     },
     "output_type": "display_data"
    }
   ],
   "source": [
    "fig, ax = plt.subplots()\n",
    "\n",
    "ax.plot(fpr, tpr)\n",
    "ax.plot([0, 1], [0, 1], 'k--')\n",
    "plt.xlim([0.0, 1.0])\n",
    "plt.ylim([0.0, 1.0])\n",
    "plt.xlabel('False Positive Rate')\n",
    "plt.ylabel('True Positive Rate')\n",
    "plt.title('ROC curve  Modal verbs: may, might, can, could, must, shall, should')\n",
    "plt.show()\n",
    "\n",
    "fig.savefig('ROC curve Modal verbs: may, might, can, could, must, shall, should')"
   ]
  },
  {
   "cell_type": "code",
   "execution_count": 14,
   "metadata": {},
   "outputs": [
    {
     "name": "stdout",
     "output_type": "stream",
     "text": [
      "AUC ROC 0.8224324531043847\n"
     ]
    }
   ],
   "source": [
    "print (\"AUC ROC\", metrics.roc_auc_score(y_test_roc, y_pred_roc))"
   ]
  },
  {
   "cell_type": "markdown",
   "metadata": {},
   "source": [
    "## BernoulliNB"
   ]
  },
  {
   "cell_type": "code",
   "execution_count": 15,
   "metadata": {},
   "outputs": [
    {
     "name": "stdout",
     "output_type": "stream",
     "text": [
      "              precision    recall  f1-score   support\n",
      "\n",
      "      Figure       0.00      0.00      0.00         5\n",
      "     Heading       0.76      0.94      0.84       253\n",
      " Information       0.51      0.17      0.26       169\n",
      " Requirement       0.90      0.94      0.92      1446\n",
      "       Title       0.00      0.00      0.00         7\n",
      "\n",
      "    accuracy                           0.86      1880\n",
      "   macro avg       0.43      0.41      0.40      1880\n",
      "weighted avg       0.84      0.86      0.84      1880\n",
      "\n",
      "beta = 0.5 fbeta_score = 0.8368288297119147\n"
     ]
    },
    {
     "name": "stderr",
     "output_type": "stream",
     "text": [
      "/Users/marychikunova/opt/anaconda3/lib/python3.7/site-packages/sklearn/metrics/_classification.py:1272: UndefinedMetricWarning: Precision and F-score are ill-defined and being set to 0.0 in labels with no predicted samples. Use `zero_division` parameter to control this behavior.\n",
      "  _warn_prf(average, modifier, msg_start, len(result))\n"
     ]
    }
   ],
   "source": [
    "from sklearn.naive_bayes import BernoulliNB\n",
    "clf = BernoulliNB()\n",
    "clf.fit(X_train, y_train)\n",
    "y_pred = clf.predict(X_test)\n",
    "\n",
    "print(metrics.classification_report(y_test, y_pred, target_names=le.classes_[np.unique(y_test)]))#le.classes_[np.unique(predicted)]\n",
    "\n",
    "beta = 0.5\n",
    "print (\"beta =\", beta, 'fbeta_score =', metrics.fbeta_score(y_test, y_pred, beta = 0.5, average='weighted'))"
   ]
  },
  {
   "cell_type": "code",
   "execution_count": 16,
   "metadata": {},
   "outputs": [
    {
     "name": "stdout",
     "output_type": "stream",
     "text": [
      "Fitting 4 folds for each of 80 candidates, totalling 320 fits\n"
     ]
    },
    {
     "name": "stderr",
     "output_type": "stream",
     "text": [
      "[Parallel(n_jobs=-1)]: Using backend LokyBackend with 8 concurrent workers.\n",
      "[Parallel(n_jobs=-1)]: Done   2 tasks      | elapsed:    1.1s\n",
      "[Parallel(n_jobs=-1)]: Done  72 tasks      | elapsed:    1.3s\n",
      "[Parallel(n_jobs=-1)]: Done 320 out of 320 | elapsed:    1.6s finished\n"
     ]
    },
    {
     "data": {
      "text/plain": [
       "RandomizedSearchCV(cv=4, error_score=nan,\n",
       "                   estimator=BernoulliNB(alpha=1.0, binarize=0.0,\n",
       "                                         class_prior=None, fit_prior=True),\n",
       "                   iid='deprecated', n_iter=80, n_jobs=-1,\n",
       "                   param_distributions={'alpha': [0.0, 0.1, 0.2,\n",
       "                                                  0.30000000000000004, 0.4, 0.5,\n",
       "                                                  0.6000000000000001,\n",
       "                                                  0.7000000000000001, 0.8, 0.9,\n",
       "                                                  1.0, None],\n",
       "                                        'binarize': [0.0, 0.1, 0.2,\n",
       "                                                     0.30000000000000004, 0.4,\n",
       "                                                     0.5, 0.6000000000000001,\n",
       "                                                     0.7000000000000001, 0.8,\n",
       "                                                     0.9, 1.0, None],\n",
       "                                        'fit_prior': [True, False]},\n",
       "                   pre_dispatch='2*n_jobs', random_state=101, refit=True,\n",
       "                   return_train_score=False, scoring=None, verbose=5)"
      ]
     },
     "execution_count": 16,
     "metadata": {},
     "output_type": "execute_result"
    }
   ],
   "source": [
    "from sklearn.model_selection import RandomizedSearchCV\n",
    "from sklearn.model_selection import cross_val_score\n",
    "\n",
    "random_search = {'alpha': list(np.linspace(0.0, 1.0, 11, dtype = float)) + [None],\n",
    "               'binarize': list(np.linspace(0.0, 1.0, 11, dtype = float)) + [None],\n",
    "               'fit_prior': [True, False]}\n",
    "\n",
    "clf = BernoulliNB()\n",
    "model = RandomizedSearchCV(estimator = clf, param_distributions = random_search, n_iter = 80, \n",
    "                               cv = 4, verbose= 5, random_state= 101, n_jobs = -1)\n",
    "model.fit(X_train,y_train)"
   ]
  },
  {
   "cell_type": "code",
   "execution_count": 17,
   "metadata": {},
   "outputs": [
    {
     "name": "stdout",
     "output_type": "stream",
     "text": [
      "[[   0    2    0    3    0]\n",
      " [   0  238    1   14    0]\n",
      " [   0    7   29  133    0]\n",
      " [   0   61   27 1357    1]\n",
      " [   0    6    0    1    0]] \n",
      "\n",
      "              precision    recall  f1-score   support\n",
      "\n",
      "      Figure       0.00      0.00      0.00         5\n",
      "     Heading       0.76      0.94      0.84       253\n",
      " Information       0.51      0.17      0.26       169\n",
      " Requirement       0.90      0.94      0.92      1446\n",
      "       Title       0.00      0.00      0.00         7\n",
      "\n",
      "    accuracy                           0.86      1880\n",
      "   macro avg       0.43      0.41      0.40      1880\n",
      "weighted avg       0.84      0.86      0.84      1880\n",
      "\n"
     ]
    },
    {
     "name": "stderr",
     "output_type": "stream",
     "text": [
      "/Users/marychikunova/opt/anaconda3/lib/python3.7/site-packages/sklearn/metrics/_classification.py:1272: UndefinedMetricWarning: Precision and F-score are ill-defined and being set to 0.0 in labels with no predicted samples. Use `zero_division` parameter to control this behavior.\n",
      "  _warn_prf(average, modifier, msg_start, len(result))\n"
     ]
    }
   ],
   "source": [
    "predictionforest = model.best_estimator_.predict(X_test)\n",
    "print(metrics.confusion_matrix(y_test,predictionforest), '\\n')\n",
    "print(metrics.classification_report(y_test, predictionforest, target_names=le.classes_[np.unique(y_test)]))\n",
    "acc3 = metrics.accuracy_score(y_test,predictionforest)"
   ]
  },
  {
   "cell_type": "code",
   "execution_count": 18,
   "metadata": {},
   "outputs": [
    {
     "data": {
      "text/plain": [
       "array([0., 0., 0., ..., 0., 0., 0.])"
      ]
     },
     "execution_count": 18,
     "metadata": {},
     "output_type": "execute_result"
    }
   ],
   "source": [
    "length = len(y_test)\n",
    "\n",
    "y_test_roc = np.zeros(length)\n",
    "y_test_roc"
   ]
  },
  {
   "cell_type": "code",
   "execution_count": 19,
   "metadata": {},
   "outputs": [],
   "source": [
    "# Compute ROC curve and ROC area for each class\n",
    "fpr = dict()\n",
    "tpr = dict()\n",
    "roc_auc = dict()\n",
    "\n",
    "length = len(y_test)\n",
    "\n",
    "y_test_roc = np.zeros(length)\n",
    "y_pred_roc = np.zeros(length)\n",
    "\n",
    "for i in range (length):\n",
    "    if(y_test[i] == 3): y_test_roc[i] = 1\n",
    "        \n",
    "for i in range (length):\n",
    "    if(y_pred[i] == 3): y_pred_roc[i] = 1\n",
    "        \n",
    "fpr, tpr, thresholds = metrics.roc_curve(y_test_roc, y_pred_roc)"
   ]
  },
  {
   "cell_type": "code",
   "execution_count": 20,
   "metadata": {},
   "outputs": [
    {
     "data": {
      "image/png": "[encoded data removed]",
      "text/plain": [
       "<Figure size 432x288 with 1 Axes>"
      ]
     },
     "metadata": {
      "needs_background": "light"
     },
     "output_type": "display_data"
    }
   ],
   "source": [
    "import matplotlib.pyplot as plt\n",
    "plt.figure()\n",
    "plt.plot(fpr, tpr)\n",
    "plt.plot([0, 1], [0, 1], 'k--')\n",
    "plt.xlim([0.0, 1.0])\n",
    "plt.ylim([0.0, 1.0])\n",
    "plt.xlabel('False Positive Rate')\n",
    "plt.ylabel('True Positive Rate')\n",
    "plt.title('ROC curve')\n",
    "plt.show()"
   ]
  },
  {
   "cell_type": "code",
   "execution_count": 21,
   "metadata": {},
   "outputs": [
    {
     "name": "stdout",
     "output_type": "stream",
     "text": [
      "AUC ROC 0.7952623158753529\n"
     ]
    }
   ],
   "source": [
    "print (\"AUC ROC\", metrics.roc_auc_score(y_test_roc, y_pred_roc))"
   ]
  },
  {
   "cell_type": "markdown",
   "metadata": {},
   "source": [
    "## ComplementNB"
   ]
  },
  {
   "cell_type": "code",
   "execution_count": 22,
   "metadata": {},
   "outputs": [
    {
     "name": "stdout",
     "output_type": "stream",
     "text": [
      "              precision    recall  f1-score   support\n",
      "\n",
      "      Figure       0.33      0.80      0.47         5\n",
      "     Heading       0.90      0.32      0.47       253\n",
      " Information       0.29      0.08      0.12       169\n",
      " Requirement       0.82      0.98      0.90      1446\n",
      "       Title       0.00      0.00      0.00         7\n",
      "\n",
      "    accuracy                           0.81      1880\n",
      "   macro avg       0.47      0.44      0.39      1880\n",
      "weighted avg       0.78      0.81      0.76      1880\n",
      "\n",
      "beta = 0.5 fbeta_score = 0.760731271730606\n"
     ]
    }
   ],
   "source": [
    "from sklearn.naive_bayes import ComplementNB\n",
    "clf = ComplementNB()\n",
    "clf.fit(X_train, y_train)\n",
    "y_pred = clf.predict(X_test)\n",
    "\n",
    "print(metrics.classification_report(y_test, y_pred, target_names=le.classes_[np.unique(y_test)]))\n",
    "\n",
    "beta = 0.5\n",
    "print (\"beta =\", beta, 'fbeta_score =', metrics.fbeta_score(y_test, y_pred, beta = 0.5, average='weighted'))"
   ]
  },
  {
   "cell_type": "code",
   "execution_count": 23,
   "metadata": {},
   "outputs": [
    {
     "name": "stderr",
     "output_type": "stream",
     "text": [
      "/Users/marychikunova/opt/anaconda3/lib/python3.7/site-packages/sklearn/model_selection/_search.py:281: UserWarning: The total space of parameters 48 is smaller than n_iter=80. Running 48 iterations. For exhaustive searches, use GridSearchCV.\n",
      "  % (grid_size, self.n_iter, grid_size), UserWarning)\n",
      "[Parallel(n_jobs=-1)]: Using backend LokyBackend with 8 concurrent workers.\n",
      "[Parallel(n_jobs=-1)]: Done   2 tasks      | elapsed:    0.0s\n"
     ]
    },
    {
     "name": "stdout",
     "output_type": "stream",
     "text": [
      "Fitting 4 folds for each of 48 candidates, totalling 192 fits\n"
     ]
    },
    {
     "name": "stderr",
     "output_type": "stream",
     "text": [
      "[Parallel(n_jobs=-1)]: Done 162 tasks      | elapsed:    0.3s\n",
      "[Parallel(n_jobs=-1)]: Done 177 out of 192 | elapsed:    0.3s remaining:    0.0s\n",
      "[Parallel(n_jobs=-1)]: Done 192 out of 192 | elapsed:    0.3s finished\n"
     ]
    },
    {
     "data": {
      "text/plain": [
       "RandomizedSearchCV(cv=4, error_score=nan,\n",
       "                   estimator=ComplementNB(alpha=1.0, class_prior=None,\n",
       "                                          fit_prior=True, norm=False),\n",
       "                   iid='deprecated', n_iter=80, n_jobs=-1,\n",
       "                   param_distributions={'alpha': [0.0, 0.1, 0.2,\n",
       "                                                  0.30000000000000004, 0.4, 0.5,\n",
       "                                                  0.6000000000000001,\n",
       "                                                  0.7000000000000001, 0.8, 0.9,\n",
       "                                                  1.0, None],\n",
       "                                        'fit_prior': [True, False],\n",
       "                                        'norm': [False, True]},\n",
       "                   pre_dispatch='2*n_jobs', random_state=101, refit=True,\n",
       "                   return_train_score=False, scoring=None, verbose=5)"
      ]
     },
     "execution_count": 23,
     "metadata": {},
     "output_type": "execute_result"
    }
   ],
   "source": [
    "random_search = {'alpha': list(np.linspace(0.0, 1.0, 11, dtype = float)) + [None],\n",
    "               'fit_prior': [True, False],\n",
    "                'norm': [False, True]}\n",
    "\n",
    "clf = ComplementNB()\n",
    "model = RandomizedSearchCV(estimator = clf, param_distributions = random_search, n_iter = 80, \n",
    "                               cv = 4, verbose= 5, random_state= 101, n_jobs = -1)\n",
    "model.fit(X_train,y_train)"
   ]
  },
  {
   "cell_type": "code",
   "execution_count": 24,
   "metadata": {},
   "outputs": [
    {
     "name": "stdout",
     "output_type": "stream",
     "text": [
      "[[   2    0    0    3    0]\n",
      " [   0   67   10  176    0]\n",
      " [   0    0    1  168    0]\n",
      " [   0    1    4 1439    2]\n",
      " [   0    1    0    6    0]] \n",
      "\n",
      "              precision    recall  f1-score   support\n",
      "\n",
      "      Figure       1.00      0.40      0.57         5\n",
      "     Heading       0.97      0.26      0.42       253\n",
      " Information       0.07      0.01      0.01       169\n",
      " Requirement       0.80      1.00      0.89      1446\n",
      "       Title       0.00      0.00      0.00         7\n",
      "\n",
      "    accuracy                           0.80      1880\n",
      "   macro avg       0.57      0.33      0.38      1880\n",
      "weighted avg       0.76      0.80      0.74      1880\n",
      "\n"
     ]
    }
   ],
   "source": [
    "predictionforest = model.best_estimator_.predict(X_test)\n",
    "print(metrics.confusion_matrix(y_test,predictionforest), '\\n')\n",
    "print(metrics.classification_report(y_test, predictionforest, target_names=le.classes_[np.unique(y_test)]))\n",
    "acc3 = metrics.accuracy_score(y_test,predictionforest)"
   ]
  },
  {
   "cell_type": "code",
   "execution_count": 25,
   "metadata": {},
   "outputs": [],
   "source": [
    "# Compute ROC curve and ROC area for each class\n",
    "fpr = dict()\n",
    "tpr = dict()\n",
    "roc_auc = dict()\n",
    "\n",
    "length = len(y_test)\n",
    "\n",
    "y_test_roc = np.zeros(length)\n",
    "y_pred_roc = np.zeros(length)\n",
    "\n",
    "for i in range (length):\n",
    "    if(y_test[i] == 3): y_test_roc[i] = 1\n",
    "        \n",
    "for i in range (length):\n",
    "    if(y_pred[i] == 3): y_pred_roc[i] = 1\n",
    "        \n",
    "fpr, tpr, thresholds = metrics.roc_curve(y_test_roc, y_pred_roc)"
   ]
  },
  {
   "cell_type": "code",
   "execution_count": 26,
   "metadata": {},
   "outputs": [
    {
     "data": {
      "image/png": "[encoded data removed]",
      "text/plain": [
       "<Figure size 432x288 with 1 Axes>"
      ]
     },
     "metadata": {
      "needs_background": "light"
     },
     "output_type": "display_data"
    }
   ],
   "source": [
    "import matplotlib.pyplot as plt\n",
    "plt.figure()\n",
    "plt.plot(fpr, tpr)\n",
    "plt.plot([0, 1], [0, 1], 'k--')\n",
    "plt.xlim([0.0, 1.0])\n",
    "plt.ylim([0.0, 1.0])\n",
    "plt.xlabel('False Positive Rate')\n",
    "plt.ylabel('True Positive Rate')\n",
    "plt.title('ROC curve')\n",
    "plt.show()"
   ]
  },
  {
   "cell_type": "code",
   "execution_count": 27,
   "metadata": {},
   "outputs": [
    {
     "name": "stdout",
     "output_type": "stream",
     "text": [
      "AUC ROC 0.6398582455335233\n"
     ]
    }
   ],
   "source": [
    "print (\"AUC ROC\", metrics.roc_auc_score(y_test_roc, y_pred_roc))"
   ]
  },
  {
   "cell_type": "markdown",
   "metadata": {},
   "source": [
    "## XGBClassifier"
   ]
  },
  {
   "cell_type": "code",
   "execution_count": 28,
   "metadata": {},
   "outputs": [
    {
     "name": "stdout",
     "output_type": "stream",
     "text": [
      "              precision    recall  f1-score   support\n",
      "\n",
      "      Figure       1.00      1.00      1.00         5\n",
      "     Heading       0.90      0.87      0.88       253\n",
      " Information       0.67      0.44      0.53       169\n",
      " Requirement       0.92      0.96      0.94      1446\n",
      "       Title       0.00      0.00      0.00         7\n",
      "\n",
      "    accuracy                           0.90      1880\n",
      "   macro avg       0.70      0.65      0.67      1880\n",
      "weighted avg       0.89      0.90      0.89      1880\n",
      "\n"
     ]
    }
   ],
   "source": [
    "from xgboost import XGBClassifier\n",
    "clf = XGBClassifier().fit(X_train, y_train)\n",
    "y_pred = clf.predict(X_test)\n",
    "print(metrics.classification_report(y_test, y_pred, target_names=le.classes_[np.unique(y_test)]))"
   ]
  },
  {
   "cell_type": "code",
   "execution_count": 29,
   "metadata": {},
   "outputs": [
    {
     "name": "stdout",
     "output_type": "stream",
     "text": [
      "Fitting 4 folds for each of 80 candidates, totalling 320 fits\n"
     ]
    },
    {
     "name": "stderr",
     "output_type": "stream",
     "text": [
      "[Parallel(n_jobs=-1)]: Using backend LokyBackend with 8 concurrent workers.\n",
      "[Parallel(n_jobs=-1)]: Done   2 tasks      | elapsed:    2.2s\n",
      "[Parallel(n_jobs=-1)]: Done  56 tasks      | elapsed:    5.0s\n",
      "[Parallel(n_jobs=-1)]: Done 146 tasks      | elapsed:   12.8s\n",
      "[Parallel(n_jobs=-1)]: Done 272 tasks      | elapsed:   21.5s\n",
      "[Parallel(n_jobs=-1)]: Done 320 out of 320 | elapsed:   25.7s finished\n"
     ]
    },
    {
     "data": {
      "text/plain": [
       "RandomizedSearchCV(cv=4, error_score=nan,\n",
       "                   estimator=XGBClassifier(base_score=None, booster=None,\n",
       "                                           colsample_bylevel=None,\n",
       "                                           colsample_bynode=None,\n",
       "                                           colsample_bytree=None, gamma=None,\n",
       "                                           gpu_id=None, importance_type='gain',\n",
       "                                           interaction_constraints=None,\n",
       "                                           learning_rate=None,\n",
       "                                           max_delta_step=None, max_depth=None,\n",
       "                                           min_child_weight=None, missing=nan,\n",
       "                                           monotone_constraints=None,\n",
       "                                           n...\n",
       "                                        'min_child_weight': <scipy.stats._distn_infrastructure.rv_frozen object at 0x7fd640437fd0>,\n",
       "                                        'n_estimators': <scipy.stats._distn_infrastructure.rv_frozen object at 0x7fd640449e90>,\n",
       "                                        'reg_alpha': <scipy.stats._distn_infrastructure.rv_frozen object at 0x7fd640437fd0>,\n",
       "                                        'subsample': <scipy.stats._distn_infrastructure.rv_frozen object at 0x7fd640449c50>},\n",
       "                   pre_dispatch='2*n_jobs', random_state=101, refit=True,\n",
       "                   return_train_score=False, scoring=None, verbose=5)"
      ]
     },
     "execution_count": 29,
     "metadata": {},
     "output_type": "execute_result"
    }
   ],
   "source": [
    "import scipy.stats as st\n",
    "\n",
    "random_search = {'alpha': list(np.linspace(0.0, 1.0, 11, dtype = float)) + [None],\n",
    "               'fit_prior': [True, False],\n",
    "                'norm': [False, True]}\n",
    "\n",
    "one_to_left = st.beta(10, 1)  \n",
    "from_zero_positive = st.expon(0, 50)\n",
    "\n",
    "random_search = {  \n",
    "    \"n_estimators\": st.randint(3, 40),\n",
    "    \"max_depth\": st.randint(3, 40),\n",
    "    \"learning_rate\": st.uniform(0.05, 0.4),\n",
    "    \"colsample_bytree\": one_to_left,\n",
    "    \"subsample\": one_to_left,\n",
    "    \"gamma\": st.uniform(0, 10),\n",
    "    'reg_alpha': from_zero_positive,\n",
    "    \"min_child_weight\": from_zero_positive,\n",
    "}\n",
    "\n",
    "\n",
    "clf = XGBClassifier()\n",
    "model = RandomizedSearchCV(estimator = clf, param_distributions = random_search, n_iter = 80, \n",
    "                               cv = 4, verbose= 5, random_state= 101, n_jobs = -1)\n",
    "model.fit(X_train,y_train)"
   ]
  },
  {
   "cell_type": "code",
   "execution_count": 30,
   "metadata": {},
   "outputs": [
    {
     "name": "stdout",
     "output_type": "stream",
     "text": [
      "[[   0    0    0    5    0]\n",
      " [   0  222    0   31    0]\n",
      " [   0    7    0  162    0]\n",
      " [   0   42    0 1404    0]\n",
      " [   0    6    0    1    0]] \n",
      "\n",
      "              precision    recall  f1-score   support\n",
      "\n",
      "      Figure       0.00      0.00      0.00         5\n",
      "     Heading       0.80      0.88      0.84       253\n",
      " Information       0.00      0.00      0.00       169\n",
      " Requirement       0.88      0.97      0.92      1446\n",
      "       Title       0.00      0.00      0.00         7\n",
      "\n",
      "    accuracy                           0.86      1880\n",
      "   macro avg       0.34      0.37      0.35      1880\n",
      "weighted avg       0.78      0.86      0.82      1880\n",
      "\n"
     ]
    },
    {
     "name": "stderr",
     "output_type": "stream",
     "text": [
      "/Users/marychikunova/opt/anaconda3/lib/python3.7/site-packages/sklearn/metrics/_classification.py:1272: UndefinedMetricWarning: Precision and F-score are ill-defined and being set to 0.0 in labels with no predicted samples. Use `zero_division` parameter to control this behavior.\n",
      "  _warn_prf(average, modifier, msg_start, len(result))\n"
     ]
    }
   ],
   "source": [
    "predictionforest = model.best_estimator_.predict(X_test)\n",
    "print(metrics.confusion_matrix(y_test,predictionforest), '\\n')\n",
    "print(metrics.classification_report(y_test, predictionforest, target_names=le.classes_[np.unique(y_test)]))\n",
    "acc3 = metrics.accuracy_score(y_test,predictionforest)"
   ]
  },
  {
   "cell_type": "code",
   "execution_count": 25,
   "metadata": {},
   "outputs": [
    {
     "name": "stdout",
     "output_type": "stream",
     "text": [
      "Fitting 4 folds for each of 7986 candidates, totalling 31944 fits\n"
     ]
    },
    {
     "name": "stderr",
     "output_type": "stream",
     "text": [
      "[Parallel(n_jobs=-1)]: Using backend LokyBackend with 8 concurrent workers.\n",
      "[Parallel(n_jobs=-1)]: Done   2 tasks      | elapsed:    0.2s\n",
      "[Parallel(n_jobs=-1)]: Done  72 tasks      | elapsed:   10.7s\n",
      "[Parallel(n_jobs=-1)]: Done 162 tasks      | elapsed:   36.6s\n",
      "[Parallel(n_jobs=-1)]: Done 288 tasks      | elapsed:  1.5min\n",
      "[Parallel(n_jobs=-1)]: Done 450 tasks      | elapsed:  2.7min\n",
      "[Parallel(n_jobs=-1)]: Done 648 tasks      | elapsed:  3.4min\n",
      "[Parallel(n_jobs=-1)]: Done 882 tasks      | elapsed:  4.7min\n",
      "[Parallel(n_jobs=-1)]: Done 1152 tasks      | elapsed:  5.8min\n",
      "[Parallel(n_jobs=-1)]: Done 1458 tasks      | elapsed:  7.3min\n",
      "[Parallel(n_jobs=-1)]: Done 1800 tasks      | elapsed:  8.6min\n",
      "[Parallel(n_jobs=-1)]: Done 2178 tasks      | elapsed:  9.9min\n",
      "[Parallel(n_jobs=-1)]: Done 2592 tasks      | elapsed: 11.6min\n",
      "[Parallel(n_jobs=-1)]: Done 3042 tasks      | elapsed: 13.6min\n",
      "[Parallel(n_jobs=-1)]: Done 3528 tasks      | elapsed: 16.7min\n",
      "[Parallel(n_jobs=-1)]: Done 4050 tasks      | elapsed: 19.4min\n",
      "[Parallel(n_jobs=-1)]: Done 4608 tasks      | elapsed: 21.7min\n",
      "[Parallel(n_jobs=-1)]: Done 5202 tasks      | elapsed: 24.1min\n",
      "[Parallel(n_jobs=-1)]: Done 5832 tasks      | elapsed: 26.6min\n",
      "[Parallel(n_jobs=-1)]: Done 6498 tasks      | elapsed: 30.3min\n",
      "[Parallel(n_jobs=-1)]: Done 7200 tasks      | elapsed: 33.8min\n",
      "[Parallel(n_jobs=-1)]: Done 7938 tasks      | elapsed: 36.6min\n",
      "[Parallel(n_jobs=-1)]: Done 8712 tasks      | elapsed: 39.9min\n",
      "[Parallel(n_jobs=-1)]: Done 9522 tasks      | elapsed: 44.5min\n",
      "[Parallel(n_jobs=-1)]: Done 10368 tasks      | elapsed: 48.3min\n",
      "[Parallel(n_jobs=-1)]: Done 11250 tasks      | elapsed: 52.0min\n",
      "[Parallel(n_jobs=-1)]: Done 12168 tasks      | elapsed: 57.0min\n",
      "[Parallel(n_jobs=-1)]: Done 13122 tasks      | elapsed: 61.5min\n",
      "[Parallel(n_jobs=-1)]: Done 14112 tasks      | elapsed: 65.6min\n",
      "[Parallel(n_jobs=-1)]: Done 15138 tasks      | elapsed: 70.8min\n",
      "[Parallel(n_jobs=-1)]: Done 16200 tasks      | elapsed: 75.6min\n",
      "[Parallel(n_jobs=-1)]: Done 17298 tasks      | elapsed: 80.5min\n",
      "[Parallel(n_jobs=-1)]: Done 18432 tasks      | elapsed: 86.5min\n",
      "[Parallel(n_jobs=-1)]: Done 19602 tasks      | elapsed: 91.7min\n",
      "[Parallel(n_jobs=-1)]: Done 20808 tasks      | elapsed: 97.8min\n",
      "[Parallel(n_jobs=-1)]: Done 22050 tasks      | elapsed: 103.1min\n",
      "[Parallel(n_jobs=-1)]: Done 23328 tasks      | elapsed: 108.3min\n",
      "[Parallel(n_jobs=-1)]: Done 24642 tasks      | elapsed: 114.9min\n",
      "[Parallel(n_jobs=-1)]: Done 25992 tasks      | elapsed: 120.3min\n",
      "[Parallel(n_jobs=-1)]: Done 27378 tasks      | elapsed: 126.9min\n",
      "[Parallel(n_jobs=-1)]: Done 28800 tasks      | elapsed: 132.8min\n",
      "[Parallel(n_jobs=-1)]: Done 30258 tasks      | elapsed: 139.7min\n",
      "[Parallel(n_jobs=-1)]: Done 31752 tasks      | elapsed: 144.9min\n",
      "[Parallel(n_jobs=-1)]: Done 31944 out of 31944 | elapsed: 145.6min finished\n"
     ]
    },
    {
     "name": "stdout",
     "output_type": "stream",
     "text": [
      "[[   5    0    0    0    0]\n",
      " [   0  218    1   32    2]\n",
      " [   0    2   55  112    0]\n",
      " [   3   21   30 1392    0]\n",
      " [   0    6    0    1    0]]\n",
      "              precision    recall  f1-score   support\n",
      "\n",
      "           0       0.62      1.00      0.77         5\n",
      "           1       0.88      0.86      0.87       253\n",
      "           2       0.64      0.33      0.43       169\n",
      "           3       0.91      0.96      0.93      1446\n",
      "           4       0.00      0.00      0.00         7\n",
      "\n",
      "    accuracy                           0.89      1880\n",
      "   macro avg       0.61      0.63      0.60      1880\n",
      "weighted avg       0.87      0.89      0.88      1880\n",
      "\n"
     ]
    }
   ],
   "source": [
    "from sklearn.model_selection import GridSearchCV\n",
    "\n",
    "grid_search = {\n",
    "    \"max_depth\": list(np.linspace(3, 40, 10, dtype = int)) + [None],\n",
    "    'n_estimators': list(np.linspace(3, 40, 10, dtype = int)) + [None], \n",
    "\n",
    "    'learning_rate': list(np.linspace(0, 0.5, 5, dtype = float)) + [None],\n",
    "    'gamma': list(np.linspace(0, 1, 10, dtype = float)) + [None], \n",
    "    \n",
    "    #'one_to_lef': = st.beta(10, 1)\n",
    "    #colsample_bytree\": one_to_left,\n",
    "    #\"subsample\": one_to_left,\n",
    "    #'reg_alpha': from_zero_positive,\n",
    "}\n",
    "\n",
    "clf = XGBClassifier()\n",
    "model = GridSearchCV(estimator = clf, param_grid = grid_search, cv = 4, verbose= 5, n_jobs = -1)\n",
    "model.fit(X_train,y_train)\n",
    "\n",
    "predictionforest = model.best_estimator_.predict(X_test)\n",
    "print(metrics.confusion_matrix(y_test,predictionforest))\n",
    "print(metrics.classification_report(y_test,predictionforest))"
   ]
  },
  {
   "cell_type": "code",
   "execution_count": 31,
   "metadata": {},
   "outputs": [],
   "source": [
    "# Compute ROC curve and ROC area for each class\n",
    "fpr = dict()\n",
    "tpr = dict()\n",
    "roc_auc = dict()\n",
    "\n",
    "length = len(y_test)\n",
    "\n",
    "y_test_roc = np.zeros(length)\n",
    "y_pred_roc = np.zeros(length)\n",
    "\n",
    "for i in range (length):\n",
    "    if(y_test[i] == 3): y_test_roc[i] = 1\n",
    "        \n",
    "for i in range (length):\n",
    "    if(y_pred[i] == 3): y_pred_roc[i] = 1\n",
    "        \n",
    "fpr, tpr, thresholds = metrics.roc_curve(y_test_roc, y_pred_roc)"
   ]
  },
  {
   "cell_type": "code",
   "execution_count": 32,
   "metadata": {},
   "outputs": [
    {
     "data": {
      "image/png": "[encoded data removed]",
      "text/plain": [
       "<Figure size 432x288 with 1 Axes>"
      ]
     },
     "metadata": {
      "needs_background": "light"
     },
     "output_type": "display_data"
    }
   ],
   "source": [
    "import matplotlib.pyplot as plt\n",
    "plt.figure()\n",
    "plt.plot(fpr, tpr)\n",
    "plt.plot([0, 1], [0, 1], 'k--')\n",
    "plt.xlim([0.0, 1.0])\n",
    "plt.ylim([0.0, 1.0])\n",
    "plt.xlabel('False Positive Rate')\n",
    "plt.ylabel('True Positive Rate')\n",
    "plt.title('ROC curve')\n",
    "plt.show()"
   ]
  },
  {
   "cell_type": "code",
   "execution_count": 33,
   "metadata": {},
   "outputs": [
    {
     "name": "stdout",
     "output_type": "stream",
     "text": [
      "AUC ROC 0.8414663683703973\n"
     ]
    }
   ],
   "source": [
    "print (\"AUC ROC\", metrics.roc_auc_score(y_test_roc, y_pred_roc))"
   ]
  },
  {
   "cell_type": "code",
   "execution_count": null,
   "metadata": {},
   "outputs": [],
   "source": []
  }
 ],
 "metadata": {
  "kernelspec": {
   "display_name": "Python 3",
   "language": "python",
   "name": "python3"
  },
  "language_info": {
   "codemirror_mode": {
    "name": "ipython",
    "version": 3
   },
   "file_extension": ".py",
   "mimetype": "text/x-python",
   "name": "python",
   "nbconvert_exporter": "python",
   "pygments_lexer": "ipython3",
   "version": "3.7.6"
  }
 },
 "nbformat": 4,
 "nbformat_minor": 2
}
